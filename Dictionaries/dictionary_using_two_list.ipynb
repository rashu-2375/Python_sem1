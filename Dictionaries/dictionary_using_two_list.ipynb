{
 "cells": [
  {
   "cell_type": "markdown",
   "metadata": {},
   "source": [
    "# **SEM_1 ASSIGNMENT**\n",
    "Q. Convert these two lists into a dictionary. \n",
    "Take the keys from the first list, and \n",
    "values from the second one.\n",
    "keys = [‘Ten’, ‘Twenty’, ‘Thirty’]\n",
    "values = [10, 20, 30]"
   ]
  },
  {
   "cell_type": "code",
   "execution_count": 1,
   "metadata": {},
   "outputs": [
    {
     "name": "stdout",
     "output_type": "stream",
     "text": [
      "{'Ten': 10, 'Twenty': 20, 'Thirty': 30}\n"
     ]
    }
   ],
   "source": [
    "# Given lists\n",
    "lst1=[\"Ten\",\"Twenty\",\"Thirty\"]\n",
    "lst2=[10,20,30]\n",
    "\n",
    "# empty dictioary to store key-value pairs\n",
    "dict1={}\n",
    "\n",
    "lst1_len=len(lst1)\n",
    "lst2_len=len(lst2)\n",
    "\n",
    "# logic to  ensure the lists have equal lengths\n",
    "if lst1_len==lst2_len:\n",
    "    # loop throgh the indices of the lists\n",
    "    for i in range(lst1_len):\n",
    "        # access each element of list1 and store it in variable 'key '\n",
    "        key=lst1[i]\n",
    "        # access each element of list2 and store it in variabale 'value'\n",
    "        value=lst2[i]\n",
    "        # at each iteration going to add corresponding key-value pair to the dictionary\n",
    "        dict1[key]=value\n",
    "print(dict1)\n"
   ]
  }
 ],
 "metadata": {
  "kernelspec": {
   "display_name": "Python 3",
   "language": "python",
   "name": "python3"
  },
  "language_info": {
   "codemirror_mode": {
    "name": "ipython",
    "version": 3
   },
   "file_extension": ".py",
   "mimetype": "text/x-python",
   "name": "python",
   "nbconvert_exporter": "python",
   "pygments_lexer": "ipython3",
   "version": "3.11.5"
  }
 },
 "nbformat": 4,
 "nbformat_minor": 2
}
