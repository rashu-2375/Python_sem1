{
 "cells": [
  {
   "cell_type": "markdown",
   "metadata": {},
   "source": [
    "# ***SEM_1 ASSIGNMENT***\n",
    "Q. Write a for loop to create another dictionary from the above where the marks are replaced by grades.\n",
    " Above 80 is A grade, 60–80 is B grade, 40–60 is C grade, and below 40 is F. \n",
    " Create another dictionary to store the max and average marks for each student.\n",
    "  Use this dictionary to compute the final CPI/CGPA of the student. \n",
    "  Course1 is of 4 credits, Course2 of 10 credits, and Course3 of 6 credits.\n",
    "   Store these credits in a list.\n",
    "    Write this dictionary as a json file, and read it back into a new dictionary."
   ]
  },
  {
   "cell_type": "code",
   "execution_count": 1,
   "metadata": {},
   "outputs": [
    {
     "name": "stdout",
     "output_type": "stream",
     "text": [
      "dict_items([('shreya', [82, 64, 42]), ('Aarti', [87, 34, 78])])\n",
      "{'shreya': ['A', 'B', 'C'], 'Aarti': ['A', 'F', 'B']}\n",
      "{'shreya': [82, 62.666666666666664], 'Aarti': [87, 66.33333333333333]}\n"
     ]
    }
   ],
   "source": [
    "course_name=['P','C','M']\n",
    "dic_marks = {'shreya': [82, 64, 42], 'Aarti': [87, 34, 78]}\n",
    "\n",
    "dict_avg={}\n",
    "l=dic_marks.items()\n",
    "print(l)\n",
    "a=len(course_name)\n",
    "for key,i in l:\n",
    "    lst=[]\n",
    "    lst.append(max(i))\n",
    "    lst.append(sum(i)/len(i))\n",
    "    dict_avg[key] = lst\n",
    "    lst = None\n",
    "    for j in range(a):\n",
    "        # list of marks of individual student is accessed using loop and then for corresponding subject marks\n",
    "        #  is checked and give grade as per fulfillment of condition\n",
    "        if i[j]>80:\n",
    "            i[j]='A'\n",
    "        elif i[j]>60:\n",
    "            i[j]='B'\n",
    "        elif i[j]>40:\n",
    "            i[j]='C'\n",
    "        else:\n",
    "           i[j]='F'\n",
    "# print(l)\n",
    "print(dic_marks)\n",
    "print(dict_avg)\n"
   ]
  },
  {
   "cell_type": "code",
   "execution_count": 2,
   "metadata": {},
   "outputs": [
    {
     "name": "stdout",
     "output_type": "stream",
     "text": [
      "{'shreya': [10, 9, 7], 'Aarti': [10, 5, 9]}\n"
     ]
    }
   ],
   "source": [
    "dict_grade={'shreya': ['A', 'B', 'C'], 'Aarti': ['A', 'F', 'B']}\n",
    "\n",
    "# mapping grades to corresponding numerical values\n",
    "dict10={'A':10,'B':9,'C':7,'F':5}\n",
    "a=len(course_name)\n",
    "for value in dict_grade.values():\n",
    "    # loop through each grade in the list and replace it with the corresponding numerical value from dict10\n",
    "    for i in range(a):\n",
    "        value[i]=dict10[value[i]]\n",
    "print(dict_grade)"
   ]
  },
  {
   "cell_type": "code",
   "execution_count": 3,
   "metadata": {},
   "outputs": [
    {
     "name": "stdout",
     "output_type": "stream",
     "text": [
      "shreya\n",
      "172\n",
      "8.6\n",
      "Aarti\n",
      "144\n",
      "7.2\n"
     ]
    }
   ],
   "source": [
    "dict_cgpa={'shreya': [10, 9, 7], 'Aarti': [10, 5, 9]}\n",
    "credit={'P':4,'C':10,'M':6}\n",
    "c=list(credit.values())\n",
    "\n",
    "# d=sum(c)\n",
    "# print(d)\n",
    "l=len(c)\n",
    "for key,value in dict_cgpa.items():\n",
    "    print(key)\n",
    "    cgpa=0\n",
    "    for j in range(l):\n",
    "        cgpa=cgpa+(value[j]*c[j])\n",
    "    print(cgpa)\n",
    "    print(cgpa/20)"
   ]
  }
 ],
 "metadata": {
  "kernelspec": {
   "display_name": "Python 3",
   "language": "python",
   "name": "python3"
  },
  "language_info": {
   "codemirror_mode": {
    "name": "ipython",
    "version": 3
   },
   "file_extension": ".py",
   "mimetype": "text/x-python",
   "name": "python",
   "nbconvert_exporter": "python",
   "pygments_lexer": "ipython3",
   "version": "3.11.5"
  }
 },
 "nbformat": 4,
 "nbformat_minor": 2
}
