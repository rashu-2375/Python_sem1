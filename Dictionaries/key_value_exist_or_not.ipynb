{
 "cells": [
  {
   "cell_type": "markdown",
   "metadata": {},
   "source": [
    "# ***SEM_1 ASSIGNMENT***\n",
    "Q. Check if a key exists in a dictionary:\n",
    "sample_dict = {‘a’: 100, ‘b’: 200, ‘c’: 300}\n",
    "key_needed = ‘d’\n",
    "Check if a value exists in a dictionary:\n",
    "sample_dict = {‘a’: 100, ‘b’: 200, ‘c’: 300}\n",
    "value_needed = 200"
   ]
  },
  {
   "cell_type": "code",
   "execution_count": 2,
   "metadata": {},
   "outputs": [
    {
     "name": "stdout",
     "output_type": "stream",
     "text": [
      "no key exist\n"
     ]
    }
   ],
   "source": [
    "\n",
    "dict1={'a': 100, 'b': 200, 'c': 300}\n",
    "\n",
    "# variable that store key \n",
    "keycheck ='d'\n",
    "\n",
    "# checking existence of required key from all keys in original dictionary\n",
    "if keycheck in dict1.keys():\n",
    "    print(\"key exists\")\n",
    "else:\n",
    "    print(\"no key exist\")"
   ]
  },
  {
   "cell_type": "code",
   "execution_count": 1,
   "metadata": {},
   "outputs": [
    {
     "name": "stdout",
     "output_type": "stream",
     "text": [
      "Value exists in the dictionary\n"
     ]
    }
   ],
   "source": [
    "# given dictionary\n",
    "sample_dict = {'a': 100, 'b': 200, 'c': 300}\n",
    "\n",
    "# value to check for existence in the dictionary\n",
    "value_needed = 200\n",
    "\n",
    "# check existence of reuired value in values of original dictionary\n",
    "if value_needed in sample_dict.values():\n",
    "    print(\"Value exists in the dictionary\")\n",
    "else:\n",
    "    print(\"Value does not exist in the dictionary\")"
   ]
  }
 ],
 "metadata": {
  "kernelspec": {
   "display_name": "Python 3",
   "language": "python",
   "name": "python3"
  },
  "language_info": {
   "codemirror_mode": {
    "name": "ipython",
    "version": 3
   },
   "file_extension": ".py",
   "mimetype": "text/x-python",
   "name": "python",
   "nbconvert_exporter": "python",
   "pygments_lexer": "ipython3",
   "version": "3.11.5"
  }
 },
 "nbformat": 4,
 "nbformat_minor": 2
}
