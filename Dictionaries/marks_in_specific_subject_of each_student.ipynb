{
 "cells": [
  {
   "cell_type": "markdown",
   "metadata": {},
   "source": [
    "# ***SEM_1 ASSIGNMENT***\n",
    "Q. Create a dictionary to store the total marks of 5 students in the class in 3 subjects (Course1, Course2, Course3). The keys must be the student names, and the values must be the list of marks. Create another list which has the course names in the same order as the marks are stored in the dictionary values. Now write a nested for loop to print the marks for each student exam wise.\n",
    "Student1\n",
    "Course1 marks : 82\n",
    "Course2 marks : 84\n",
    "Course3 marks : 72\n",
    "Student2\n",
    "Course1 marks : 87\n",
    "Course2 marks : 83\n",
    "Course3 marks : 78"
   ]
  },
  {
   "cell_type": "code",
   "execution_count": 1,
   "metadata": {},
   "outputs": [
    {
     "name": "stdout",
     "output_type": "stream",
     "text": [
      "{'shreya': [82, 84, 72], 'Aarti': [87, 83, 78]}\n",
      "shreya\n",
      "P : 82\n",
      "C : 84\n",
      "M : 72\n",
      "Aarti\n",
      "P : 87\n",
      "C : 83\n",
      "M : 78\n"
     ]
    }
   ],
   "source": [
    "# accumulator that store students name as key and their respective  list of marks as values\n",
    "dic_marks = {}\n",
    " \n",
    "# adding key-value to dictionary for different students\n",
    "dic_marks['shreya'] = [82,84,72]\n",
    "dic_marks['Aarti'] = [87,83,78]\n",
    "\n",
    "print(dic_marks)\n",
    "\n",
    "# a list storing course names\n",
    "course_name = ['P','C','M']\n",
    "\n",
    "course_name_len = len(course_name)\n",
    " \n",
    " # accessing items from dictionary\n",
    "for key,value in dic_marks.items():\n",
    "    print(key)\n",
    "\n",
    "    # access each student marks in corresponding subject one by one\n",
    "    for i in range(course_name_len):\n",
    "        print(course_name[i], ':',value[i])\n",
    "\n"
   ]
  }
 ],
 "metadata": {
  "kernelspec": {
   "display_name": "Python 3",
   "language": "python",
   "name": "python3"
  },
  "language_info": {
   "codemirror_mode": {
    "name": "ipython",
    "version": 3
   },
   "file_extension": ".py",
   "mimetype": "text/x-python",
   "name": "python",
   "nbconvert_exporter": "python",
   "pygments_lexer": "ipython3",
   "version": "3.11.5"
  }
 },
 "nbformat": 4,
 "nbformat_minor": 2
}
