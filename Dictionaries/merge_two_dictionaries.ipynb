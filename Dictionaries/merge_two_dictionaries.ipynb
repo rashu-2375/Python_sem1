{
 "cells": [
  {
   "cell_type": "markdown",
   "metadata": {},
   "source": [
    "# *SEM_1 ASSIGNMENT*\n",
    "Q. Merge these two dictionaries into one using for loop\n",
    "dict1 = {‘Ten’: 10, ‘Twenty’: 20, ‘Thirty’: 30}\n",
    "dict2 = {‘Thirty’: 30, ‘Fourty’: 40, ‘Fifty’: 50}"
   ]
  },
  {
   "cell_type": "code",
   "execution_count": 1,
   "metadata": {},
   "outputs": [
    {
     "name": "stdout",
     "output_type": "stream",
     "text": [
      "{'Ten': 10, 'Twenty': 20, 'Thirty': 30, 'Fourty': 40, 'Fifty': 50}\n"
     ]
    }
   ],
   "source": [
    "# given dictioariaries\n",
    "dict1={'Ten': 10, 'Twenty': 20, 'Thirty': 30}\n",
    "dict2={'Thirty':30,'Fourty':40, 'Fifty':50}\n",
    "\n",
    "# empty dictioary \n",
    "dict3={}\n",
    "# using  a for loop to merge dict1 & dict2 into dict3\n",
    "for key,value in dict1.items():\n",
    "   # at every iteration dict1.items are getting add to in empty dictioary\n",
    "    dict3[key]=value\n",
    "    \n",
    " # simiarly at each iteration dict2.items are getting add to in empty dictioary   \n",
    "for key ,value in dict2.items():\n",
    "    dict3[key]=value\n",
    "    \n",
    "    \n",
    "print(dict3)"
   ]
  }
 ],
 "metadata": {
  "kernelspec": {
   "display_name": "Python 3",
   "language": "python",
   "name": "python3"
  },
  "language_info": {
   "codemirror_mode": {
    "name": "ipython",
    "version": 3
   },
   "file_extension": ".py",
   "mimetype": "text/x-python",
   "name": "python",
   "nbconvert_exporter": "python",
   "pygments_lexer": "ipython3",
   "version": "3.11.5"
  }
 },
 "nbformat": 4,
 "nbformat_minor": 2
}
