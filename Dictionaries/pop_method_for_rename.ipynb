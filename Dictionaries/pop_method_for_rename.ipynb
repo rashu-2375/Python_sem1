{
 "cells": [
  {
   "cell_type": "markdown",
   "metadata": {},
   "source": [
    "# **SEM_1 ASSIGNMENT**\n",
    "Q. Remove a key from a dictionary:\n",
    "dict_name.pop(key_name)\n",
    "What does this function return?\n",
    "Use pop to rename a key."
   ]
  },
  {
   "cell_type": "code",
   "execution_count": 1,
   "metadata": {},
   "outputs": [
    {
     "name": "stdout",
     "output_type": "stream",
     "text": [
      "{'a': 100, 'c': 300}\n"
     ]
    }
   ],
   "source": [
    "# given dictionary\n",
    "dict1={'a': 100, 'b': 200, 'c': 300}\n",
    "\n",
    "#output is the corresponding value and this key is removed\n",
    "dict1.pop('b')  \n",
    " \n",
    "print(dict1)   "
   ]
  },
  {
   "cell_type": "code",
   "execution_count": 2,
   "metadata": {},
   "outputs": [
    {
     "name": "stdout",
     "output_type": "stream",
     "text": [
      "{'b': 200, 'c': 300, 'd': 100}\n"
     ]
    }
   ],
   "source": [
    "dict1={'a': 100, 'b': 200, 'c': 300}\n",
    "# remove key 'a'  and for renaming it to 'd' key , value corresponding to 'a' key will go to add in dict1 with other key i.e 'd'\n",
    "dict1['d']=dict1.pop('a')\n",
    "print(dict1)"
   ]
  }
 ],
 "metadata": {
  "kernelspec": {
   "display_name": "Python 3",
   "language": "python",
   "name": "python3"
  },
  "language_info": {
   "codemirror_mode": {
    "name": "ipython",
    "version": 3
   },
   "file_extension": ".py",
   "mimetype": "text/x-python",
   "name": "python",
   "nbconvert_exporter": "python",
   "pygments_lexer": "ipython3",
   "version": "3.11.5"
  }
 },
 "nbformat": 4,
 "nbformat_minor": 2
}
