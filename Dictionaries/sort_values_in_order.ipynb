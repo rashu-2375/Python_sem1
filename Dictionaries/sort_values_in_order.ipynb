{
 "cells": [
  {
   "cell_type": "markdown",
   "metadata": {},
   "source": [
    "# ***SEM_1 ASSIGNMENT***\n",
    "Q. Create a dictionary of your marks in various subjects and \n",
    "then sort it by its values first in descending order, and then in or ascending order. \n",
    "Do not use any inbuilt sorting functions."
   ]
  },
  {
   "cell_type": "code",
   "execution_count": 1,
   "metadata": {},
   "outputs": [
    {
     "name": "stdout",
     "output_type": "stream",
     "text": [
      "{'History': 78, 'Math': 85, 'English': 88, 'Science': 92, 'Art': 95}\n"
     ]
    }
   ],
   "source": [
    "# Initialize a dictionary containing subject names as keys and corresponding marks as values.\n",
    "marks_dict = {\n",
    "    'Math': 85,\n",
    "    'Science': 92,\n",
    "    'History': 78,\n",
    "    'English': 88,\n",
    "    'Art': 95,\n",
    "}\n",
    "\n",
    "# Initialize an empty dictionary to store the sorted results.\n",
    "sorted_dict_marks = {}\n",
    "\n",
    "# While the original dictionary 'marks_dict' is not empty, continue the sorting process.\n",
    "while marks_dict:\n",
    "    # Initialize 'min_key' to None to find the minimum value in the dictionary.\n",
    "    min_key = None\n",
    "    \n",
    "    # Iterate through each key-value pair in 'marks_dict'.\n",
    "    for key, value in marks_dict.items():\n",
    "        # Check if 'min_key' is None or if the current value is less than the value associated with 'min_key'.\n",
    "        if min_key is None or value < marks_dict[min_key]:\n",
    "            # If the condition is met, update 'min_key' to the current key.\n",
    "            min_key = key\n",
    "\n",
    "    # Add the subject with the minimum mark to 'sorted_dict_marks'.\n",
    "    sorted_dict_marks[min_key] = marks_dict[min_key]\n",
    "    \n",
    "    # Remove the subject with the minimum mark from 'marks_dict'.\n",
    "    del marks_dict[min_key]\n",
    "\n",
    "# Print the sorted dictionary, which now contains subjects sorted by their marks.\n",
    "print(sorted_dict_marks)\n"
   ]
  }
 ],
 "metadata": {
  "kernelspec": {
   "display_name": "Python 3",
   "language": "python",
   "name": "python3"
  },
  "language_info": {
   "codemirror_mode": {
    "name": "ipython",
    "version": 3
   },
   "file_extension": ".py",
   "mimetype": "text/x-python",
   "name": "python",
   "nbconvert_exporter": "python",
   "pygments_lexer": "ipython3",
   "version": "3.11.5"
  }
 },
 "nbformat": 4,
 "nbformat_minor": 2
}
