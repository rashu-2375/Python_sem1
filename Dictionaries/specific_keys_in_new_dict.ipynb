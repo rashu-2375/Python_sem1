{
 "cells": [
  {
   "cell_type": "markdown",
   "metadata": {},
   "source": [
    "# *SEM_1 ASSIGNMENT*\n",
    "Q.Create a new dictionary so that it only has the keys mentioned in another list\n",
    "sample_dict = { “name”: “Kelly”, “age”: 25, “salary”: 8000, “city”: “New york”}\n",
    "# Keys to extract\n",
    "keys = [“name”, “salary”]"
   ]
  },
  {
   "cell_type": "code",
   "execution_count": 1,
   "metadata": {},
   "outputs": [
    {
     "name": "stdout",
     "output_type": "stream",
     "text": [
      "{'name': 'Kelly', 'salary': 8000}\n"
     ]
    }
   ],
   "source": [
    "# given dictionary\n",
    "sample_dict = { \"name\": \"Kelly\", \"age\": 25, \"salary\": 8000, \"city\": \"New york\"}\n",
    "\n",
    "# taking all keys in a list that i want to show in dictionary\n",
    "keys = [\"name\", \"salary\"]\n",
    "\n",
    "# initialize a new dictionary to store selected key-value pairs\n",
    "new_dict={}\n",
    "\n",
    "# loop through list named as keys\n",
    "for i in keys:\n",
    "    # checking condition that the required key is also  in original dictionary\n",
    "    if i in sample_dict.keys():\n",
    "        # print(i)\n",
    "         \n",
    "        # add key-value pair to the new dictionary\n",
    "        new_dict[i]=sample_dict[i]\n",
    "    else:\n",
    "        print(\"key isnot found\")\n",
    "    \n",
    "print(new_dict)"
   ]
  }
 ],
 "metadata": {
  "kernelspec": {
   "display_name": "Python 3",
   "language": "python",
   "name": "python3"
  },
  "language_info": {
   "codemirror_mode": {
    "name": "ipython",
    "version": 3
   },
   "file_extension": ".py",
   "mimetype": "text/x-python",
   "name": "python",
   "nbconvert_exporter": "python",
   "pygments_lexer": "ipython3",
   "version": "3.11.5"
  }
 },
 "nbformat": 4,
 "nbformat_minor": 2
}
