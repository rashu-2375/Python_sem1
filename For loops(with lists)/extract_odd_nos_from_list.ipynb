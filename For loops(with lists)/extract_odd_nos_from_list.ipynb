{
 "cells": [
  {
   "cell_type": "markdown",
   "metadata": {},
   "source": [
    "# *SEM_1 ASSIGNMENT*\n",
    "Q. Given a list of numbers, find all the odd numbers in it."
   ]
  },
  {
   "cell_type": "code",
   "execution_count": 7,
   "metadata": {},
   "outputs": [],
   "source": [
    "# initialize a variable containing list\n",
    "list1 = [11, 2, 93, 4, 15, 6]\n",
    "\n"
   ]
  },
  {
   "cell_type": "code",
   "execution_count": 8,
   "metadata": {},
   "outputs": [
    {
     "name": "stdout",
     "output_type": "stream",
     "text": [
      "[11, 93, 15]\n"
     ]
    }
   ],
   "source": [
    "# taking accumulator named as list_odd\n",
    "list1_odd = []\n",
    "\n",
    "# iterating elements one by one\n",
    "for i in list1:\n",
    "\n",
    "    # checking condition of odd\n",
    "    if i % 2 != 0:\n",
    "        # adding odd element to list_odd\n",
    "       list1_odd .append(i)\n",
    "print(list1_odd)"
   ]
  }
 ],
 "metadata": {
  "kernelspec": {
   "display_name": "Python 3",
   "language": "python",
   "name": "python3"
  },
  "language_info": {
   "codemirror_mode": {
    "name": "ipython",
    "version": 3
   },
   "file_extension": ".py",
   "mimetype": "text/x-python",
   "name": "python",
   "nbconvert_exporter": "python",
   "pygments_lexer": "ipython3",
   "version": "3.11.5"
  }
 },
 "nbformat": 4,
 "nbformat_minor": 2
}
