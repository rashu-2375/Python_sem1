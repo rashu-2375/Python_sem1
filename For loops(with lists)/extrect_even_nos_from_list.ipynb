{
 "cells": [
  {
   "cell_type": "markdown",
   "metadata": {},
   "source": [
    "# *SEM_1 ASSIGNMENT*\n",
    "Q. Given a list of numbers, find all the even numbers in it."
   ]
  },
  {
   "cell_type": "code",
   "execution_count": 5,
   "metadata": {},
   "outputs": [],
   "source": [
    "# initialize a variable containing list\n",
    "list1 = [1 ,12, 23, 4, 5, 6]\n",
    "\n"
   ]
  },
  {
   "cell_type": "code",
   "execution_count": 6,
   "metadata": {},
   "outputs": [
    {
     "name": "stdout",
     "output_type": "stream",
     "text": [
      "[12, 4, 6]\n"
     ]
    }
   ],
   "source": [
    "# accumulator list_even stores all even no\n",
    "list1_even = []\n",
    "\n",
    "for i in list1:\n",
    "\n",
    "    # checking condition of even\n",
    "    if i % 2 == 0:\n",
    "\n",
    "        # adding even no to empty list \n",
    "        list1_even.append(i)\n",
    "print(list1_even)\n"
   ]
  }
 ],
 "metadata": {
  "kernelspec": {
   "display_name": "Python 3",
   "language": "python",
   "name": "python3"
  },
  "language_info": {
   "codemirror_mode": {
    "name": "ipython",
    "version": 3
   },
   "file_extension": ".py",
   "mimetype": "text/x-python",
   "name": "python",
   "nbconvert_exporter": "python",
   "pygments_lexer": "ipython3",
   "version": "3.11.5"
  }
 },
 "nbformat": 4,
 "nbformat_minor": 2
}
