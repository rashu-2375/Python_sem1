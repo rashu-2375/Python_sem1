{
 "cells": [
  {
   "cell_type": "markdown",
   "metadata": {},
   "source": [
    "# *SEM_1 ASSIGNMENT*\n",
    "Q. Given a list of numbers, find out the index of another given number."
   ]
  },
  {
   "cell_type": "code",
   "execution_count": 5,
   "metadata": {},
   "outputs": [],
   "source": [
    "# initialize a variable containing the list\n",
    "list1 = [4, 2, -6, 9, 0]\n",
    "\n",
    "\n"
   ]
  },
  {
   "cell_type": "code",
   "execution_count": 6,
   "metadata": {},
   "outputs": [
    {
     "name": "stdout",
     "output_type": "stream",
     "text": [
      "Target number 9 found at index: 3\n"
     ]
    }
   ],
   "source": [
    "# required target_number\n",
    "target_number = 9\n",
    "\n",
    "# Initialize the index variable to 0\n",
    "ind = 0\n",
    "\n",
    "# iterate through the list elements\n",
    "for number in list1:\n",
    "    \n",
    "    # condition for matching\n",
    "    if number == target_number:\n",
    "\n",
    "        print(\"Target number\", target_number, \"found at index:\", ind)\n",
    "\n",
    "        # Exit the loop once the target number is found\n",
    "        break \n",
    "    # increament index with 1\n",
    "    ind = ind + 1"
   ]
  },
  {
   "cell_type": "markdown",
   "metadata": {},
   "source": [
    "# using while loop"
   ]
  },
  {
   "cell_type": "code",
   "execution_count": 7,
   "metadata": {},
   "outputs": [],
   "source": [
    "list1 = [4,2,-6,9,0]\n"
   ]
  },
  {
   "cell_type": "code",
   "execution_count": 8,
   "metadata": {},
   "outputs": [
    {
     "name": "stdout",
     "output_type": "stream",
     "text": [
      "Target number 9 found at index: 3\n"
     ]
    }
   ],
   "source": [
    "list1_num_len = len(list1)\n",
    "\n",
    "\n",
    "target_number = 9\n",
    "\n",
    "# Initialize the index variable to 0\n",
    "ind = 0\n",
    "\n",
    "#  iterate through the list elements\n",
    "while ind < list1_num_len:\n",
    "    if list1[ind] == target_number:\n",
    "        \n",
    "        print(\"Target number\", target_number, \"found at index:\", ind)\n",
    "        \n",
    "        # Exit the loop once the target number is found\n",
    "        break  \n",
    "    \n",
    "    ind = ind + 1\n"
   ]
  }
 ],
 "metadata": {
  "kernelspec": {
   "display_name": "Python 3",
   "language": "python",
   "name": "python3"
  },
  "language_info": {
   "codemirror_mode": {
    "name": "ipython",
    "version": 3
   },
   "file_extension": ".py",
   "mimetype": "text/x-python",
   "name": "python",
   "nbconvert_exporter": "python",
   "pygments_lexer": "ipython3",
   "version": "3.11.5"
  }
 },
 "nbformat": 4,
 "nbformat_minor": 2
}
