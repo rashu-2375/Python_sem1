{
 "cells": [
  {
   "cell_type": "markdown",
   "metadata": {},
   "source": [
    "# *SEM_1 ASSIGNMENT*\n",
    "Q. Given a list of numbers, find out its length."
   ]
  },
  {
   "cell_type": "code",
   "execution_count": 3,
   "metadata": {},
   "outputs": [],
   "source": [
    "# initialize a variable containing a list\n",
    "list1 = [1,2,-3,4]\n"
   ]
  },
  {
   "cell_type": "code",
   "execution_count": 4,
   "metadata": {},
   "outputs": [
    {
     "name": "stdout",
     "output_type": "stream",
     "text": [
      "The length of the list is  4\n"
     ]
    }
   ],
   "source": [
    "# initialize a variable to store length\n",
    "list1_len = 0\n",
    "\n",
    "for item in list1:\n",
    "\n",
    "     # updating length of list after accessing element one by one\n",
    "     list1_len =list1_len + 1\n",
    "\n",
    "print(\"The length of the list is \",list1_len)"
   ]
  }
 ],
 "metadata": {
  "kernelspec": {
   "display_name": "Python 3",
   "language": "python",
   "name": "python3"
  },
  "language_info": {
   "codemirror_mode": {
    "name": "ipython",
    "version": 3
   },
   "file_extension": ".py",
   "mimetype": "text/x-python",
   "name": "python",
   "nbconvert_exporter": "python",
   "pygments_lexer": "ipython3",
   "version": "3.11.5"
  }
 },
 "nbformat": 4,
 "nbformat_minor": 2
}
