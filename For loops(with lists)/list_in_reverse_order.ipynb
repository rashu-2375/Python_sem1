{
 "cells": [
  {
   "cell_type": "markdown",
   "metadata": {},
   "source": [
    "# *SEM_1 ASSIGNMENT*\n",
    "Q. Given a list of numbers, create another list in reverse order."
   ]
  },
  {
   "cell_type": "code",
   "execution_count": 11,
   "metadata": {},
   "outputs": [],
   "source": [
    "# initialize a variable containing list \n",
    "original_list = [10, 5, -3, 8, 4]\n"
   ]
  },
  {
   "cell_type": "code",
   "execution_count": 12,
   "metadata": {},
   "outputs": [
    {
     "name": "stdout",
     "output_type": "stream",
     "text": [
      "[4, 8, -3, 5, 10]\n"
     ]
    }
   ],
   "source": [
    "# taking a variable that works as accumulator\n",
    "reverse_list = []\n",
    "\n",
    "# iterating each element\n",
    "for i in range(len(original_list)-1 , -1 , -1):\n",
    "    # print(i)\n",
    "\n",
    "    \n",
    "    reverse_list.append(original_list[i])  \n",
    "\n",
    "print(reverse_list)\n"
   ]
  },
  {
   "cell_type": "markdown",
   "metadata": {},
   "source": [
    "# using inbuilt fxn"
   ]
  },
  {
   "cell_type": "code",
   "execution_count": 13,
   "metadata": {},
   "outputs": [
    {
     "name": "stdout",
     "output_type": "stream",
     "text": [
      "[5, 4, 3, 2, 1]\n"
     ]
    }
   ],
   "source": [
    "list1 = [1, 2, 3, 4, 5]\n",
    "# Reverse the above list using the list_name.reverse() function\n",
    "list1.reverse()\n",
    "print(list1)"
   ]
  }
 ],
 "metadata": {
  "kernelspec": {
   "display_name": "Python 3",
   "language": "python",
   "name": "python3"
  },
  "language_info": {
   "codemirror_mode": {
    "name": "ipython",
    "version": 3
   },
   "file_extension": ".py",
   "mimetype": "text/x-python",
   "name": "python",
   "nbconvert_exporter": "python",
   "pygments_lexer": "ipython3",
   "version": "3.11.5"
  }
 },
 "nbformat": 4,
 "nbformat_minor": 2
}
