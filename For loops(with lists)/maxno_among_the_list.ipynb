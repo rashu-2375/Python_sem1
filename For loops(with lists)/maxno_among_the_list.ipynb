{
 "cells": [
  {
   "cell_type": "markdown",
   "metadata": {},
   "source": [
    "# *SEM_1 ASSIGNMENT*\n",
    "Q. Given a list of numbers, find out the maximum number."
   ]
  },
  {
   "cell_type": "code",
   "execution_count": 11,
   "metadata": {},
   "outputs": [],
   "source": [
    "# initialize a variable containing list\n",
    "list1 = [4, 11, -6, 1]\n"
   ]
  },
  {
   "cell_type": "code",
   "execution_count": 12,
   "metadata": {},
   "outputs": [
    {
     "name": "stdout",
     "output_type": "stream",
     "text": [
      "The maximum number is: 11\n"
     ]
    }
   ],
   "source": [
    "# Initialize max_num with the first element of the list\n",
    "max_num = list1[0]\n",
    "\n",
    "# iterating element  \n",
    "for item in list1:\n",
    "\n",
    "    # check if the current element is greater than the current maximum\n",
    "    if item > max_num:   \n",
    "        # we update the max_num with the current element if checking condition is satisfied\n",
    "        max_num = item\n",
    "print(\"The maximum number is:\", max_num)"
   ]
  }
 ],
 "metadata": {
  "kernelspec": {
   "display_name": "Python 3",
   "language": "python",
   "name": "python3"
  },
  "language_info": {
   "codemirror_mode": {
    "name": "ipython",
    "version": 3
   },
   "file_extension": ".py",
   "mimetype": "text/x-python",
   "name": "python",
   "nbconvert_exporter": "python",
   "pygments_lexer": "ipython3",
   "version": "3.11.5"
  }
 },
 "nbformat": 4,
 "nbformat_minor": 2
}
