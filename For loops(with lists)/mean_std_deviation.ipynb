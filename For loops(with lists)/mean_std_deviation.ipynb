{
 "cells": [
  {
   "cell_type": "markdown",
   "metadata": {},
   "source": [
    "# *SEM_1 ASSIGNMENT*\n",
    "Q. Given a list of numbers, find out the mean and standard deviation."
   ]
  },
  {
   "cell_type": "code",
   "execution_count": 7,
   "metadata": {},
   "outputs": [],
   "source": [
    "# initialize variable containing list\n",
    "list = [2, 6, 3 , 5 , 4]\n"
   ]
  },
  {
   "cell_type": "code",
   "execution_count": 8,
   "metadata": {},
   "outputs": [
    {
     "name": "stdout",
     "output_type": "stream",
     "text": [
      "4.0\n"
     ]
    }
   ],
   "source": [
    "# initialize a variable  i.e. going to store sum\n",
    "sum1 = 0\n",
    "\n",
    "# accessing each element of list\n",
    "for i in list:\n",
    "\n",
    "    # updating value of sum on each iteration\n",
    "    sum1 += i\n",
    "\n",
    "# formula to calculate mean\n",
    "mean = sum1 / (len(list))\n",
    "print(mean)"
   ]
  },
  {
   "cell_type": "markdown",
   "metadata": {},
   "source": [
    "# std deviation"
   ]
  },
  {
   "cell_type": "code",
   "execution_count": 9,
   "metadata": {},
   "outputs": [
    {
     "name": "stdout",
     "output_type": "stream",
     "text": [
      "1.4142135623730951\n"
     ]
    }
   ],
   "source": [
    "# initialize a variable  i.e. going to store sum_of_squares\n",
    "sum_of_squares = 0\n",
    "\n",
    "for i in list:\n",
    "\n",
    "# updating recent value of sum_of_squares\n",
    "   sum_of_squares  += i**2\n",
    "\n",
    "s = sum_of_squares/len(list)\n",
    "\n",
    "# using formula for calculating SD\n",
    "SD =( s - (mean)**2)**0.5\n",
    "print(SD)\n",
    "\n"
   ]
  }
 ],
 "metadata": {
  "kernelspec": {
   "display_name": "Python 3",
   "language": "python",
   "name": "python3"
  },
  "language_info": {
   "codemirror_mode": {
    "name": "ipython",
    "version": 3
   },
   "file_extension": ".py",
   "mimetype": "text/x-python",
   "name": "python",
   "nbconvert_exporter": "python",
   "pygments_lexer": "ipython3",
   "version": "3.11.5"
  }
 },
 "nbformat": 4,
 "nbformat_minor": 2
}
