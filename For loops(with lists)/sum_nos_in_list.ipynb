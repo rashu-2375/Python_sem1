{
 "cells": [
  {
   "cell_type": "markdown",
   "metadata": {},
   "source": [
    "# *SEM_1 ASSIGNMENT*\n",
    "Q. Given a list of numbers, find the sum of all the numbers."
   ]
  },
  {
   "cell_type": "code",
   "execution_count": 8,
   "metadata": {},
   "outputs": [],
   "source": [
    "# variable storing list of numbers\n",
    "list1 = [9, 2, -3, 4]\n"
   ]
  },
  {
   "cell_type": "code",
   "execution_count": 9,
   "metadata": {},
   "outputs": [
    {
     "name": "stdout",
     "output_type": "stream",
     "text": [
      "12\n"
     ]
    }
   ],
   "source": [
    "# initialize a variable  to store sum \n",
    "list1_sum = 0\n",
    "\n",
    "# iterate through each element in the list\n",
    "for i in list1:\n",
    "\n",
    "# add current element to uptaded value of sum\n",
    "    list1_sum = list1_sum + i\n",
    "    # print(i, list1_sum)\n",
    "    \n",
    "# after getting final sum then just print it\n",
    "print(list1_sum)"
   ]
  },
  {
   "cell_type": "markdown",
   "metadata": {},
   "source": [
    "# ***Method-2***"
   ]
  },
  {
   "cell_type": "code",
   "execution_count": 10,
   "metadata": {},
   "outputs": [
    {
     "name": "stdout",
     "output_type": "stream",
     "text": [
      "12\n"
     ]
    }
   ],
   "source": [
    "list1 = [9, 2 , -3 , 4]\n",
    "# accessing individual element via index and then sum\n",
    "print(list1[0] +list1 [1] + list1 [2] + list1 [3] )"
   ]
  }
 ],
 "metadata": {
  "kernelspec": {
   "display_name": "Python 3",
   "language": "python",
   "name": "python3"
  },
  "language_info": {
   "codemirror_mode": {
    "name": "ipython",
    "version": 3
   },
   "file_extension": ".py",
   "mimetype": "text/x-python",
   "name": "python",
   "nbconvert_exporter": "python",
   "pygments_lexer": "ipython3",
   "version": "3.11.5"
  }
 },
 "nbformat": 4,
 "nbformat_minor": 2
}
