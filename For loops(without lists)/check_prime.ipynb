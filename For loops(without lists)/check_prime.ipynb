{
 "cells": [
  {
   "cell_type": "markdown",
   "metadata": {},
   "source": [
    "# ***SEM_1 ASSIGNMENT***\n",
    "Q. Given a positive integer, find out if it’s prime or not.\n"
   ]
  },
  {
   "cell_type": "code",
   "execution_count": 1,
   "metadata": {},
   "outputs": [],
   "source": [
    "# taking input from the user\n",
    "n = int(input(\"Enter a number: \"))\n"
   ]
  },
  {
   "cell_type": "code",
   "execution_count": 2,
   "metadata": {},
   "outputs": [
    {
     "name": "stdout",
     "output_type": "stream",
     "text": [
      "5 is a prime number.\n"
     ]
    }
   ],
   "source": [
    "# initialize a variable to assume the number is prime\n",
    "is_prime = True\n",
    "\n",
    "if n <= 1:\n",
    "    is_prime = False  # 0 and 1 are not prime\n",
    "\n",
    "# iterate from 2 to the square root of n(rounded up to the neraest integer)\n",
    "for i in range(2, int(n**0.5) + 1):\n",
    "    if n % i == 0:\n",
    "        is_prime = False\n",
    "\n",
    "# no need to continue checking  if i got one more divisor other than itself,\n",
    "# exit the loop   \n",
    "        break\n",
    "\n",
    "if is_prime:\n",
    "    print(n, \"is a prime number.\")\n",
    "else:\n",
    "    print(n, \"is not a prime number.\")\n"
   ]
  }
 ],
 "metadata": {
  "kernelspec": {
   "display_name": "Python 3",
   "language": "python",
   "name": "python3"
  },
  "language_info": {
   "codemirror_mode": {
    "name": "ipython",
    "version": 3
   },
   "file_extension": ".py",
   "mimetype": "text/x-python",
   "name": "python",
   "nbconvert_exporter": "python",
   "pygments_lexer": "ipython3",
   "version": "3.11.5"
  }
 },
 "nbformat": 4,
 "nbformat_minor": 2
}
