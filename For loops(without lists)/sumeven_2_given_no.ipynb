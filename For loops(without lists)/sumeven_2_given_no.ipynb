{
 "cells": [
  {
   "cell_type": "markdown",
   "metadata": {},
   "source": [
    "# ***SEM_1 ASSIGNMENT***\n",
    "Q. Given a positive integer, find out the sum of all even numbers from 2 up to this number."
   ]
  },
  {
   "cell_type": "code",
   "execution_count": 1,
   "metadata": {},
   "outputs": [],
   "source": [
    "# taking input from user\n",
    "n = int(input(\"Enter the number upto which you want to add even numbers:\"))\n"
   ]
  },
  {
   "cell_type": "code",
   "execution_count": 2,
   "metadata": {},
   "outputs": [
    {
     "name": "stdout",
     "output_type": "stream",
     "text": [
      "Sum of even numbers up to 5 is: 6\n"
     ]
    }
   ],
   "source": [
    "sum1 = 0\n",
    "# using a loop we are iterating one by one number from 2 to n\n",
    "for i in range(2, n + 1):\n",
    "# checking condition of even\n",
    "\n",
    "    if i % 2 == 0:\n",
    "# updating our sum1 variable after adding even number\n",
    "        sum1 += i\n",
    "\n",
    "print(\"Sum of even numbers up to\", n, \"is:\", sum1)\n"
   ]
  },
  {
   "cell_type": "markdown",
   "metadata": {},
   "source": [
    "# ***Method-2***"
   ]
  },
  {
   "cell_type": "code",
   "execution_count": 3,
   "metadata": {},
   "outputs": [],
   "source": [
    "# taking input from user\n",
    "n1 = int(input(\"Enter the number upto which you want to add even numbers:\"))\n"
   ]
  },
  {
   "cell_type": "code",
   "execution_count": 4,
   "metadata": {},
   "outputs": [
    {
     "name": "stdout",
     "output_type": "stream",
     "text": [
      "Sum of even numbers up to 9 is: 20\n"
     ]
    }
   ],
   "source": [
    "sum2 = 0\n",
    "# using a loop we are iterating one by one number from 2 to n\n",
    "for i in range(2, n1 + 1,2):\n",
    "        sum2 += i\n",
    "\n",
    "print(\"Sum of even numbers up to\", n1, \"is:\", sum2)\n"
   ]
  }
 ],
 "metadata": {
  "kernelspec": {
   "display_name": "Python 3",
   "language": "python",
   "name": "python3"
  },
  "language_info": {
   "codemirror_mode": {
    "name": "ipython",
    "version": 3
   },
   "file_extension": ".py",
   "mimetype": "text/x-python",
   "name": "python",
   "nbconvert_exporter": "python",
   "pygments_lexer": "ipython3",
   "version": "3.11.5"
  }
 },
 "nbformat": 4,
 "nbformat_minor": 2
}
