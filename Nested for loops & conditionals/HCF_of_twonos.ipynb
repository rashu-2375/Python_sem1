{
 "cells": [
  {
   "cell_type": "markdown",
   "metadata": {},
   "source": [
    "# **SEM_1 ASSIGNMENT**\n",
    "Q. Given two numbers, find its Greatest Common Divisor (Divisor)."
   ]
  },
  {
   "cell_type": "code",
   "execution_count": 11,
   "metadata": {},
   "outputs": [
    {
     "name": "stdout",
     "output_type": "stream",
     "text": [
      "The Gcd of 10 and 5 is: 5\n"
     ]
    }
   ],
   "source": [
    "# taking input from the user\n",
    "num1 = int(input(\"enter your number:\"))\n",
    "num2 = int(input(\"enter your number:\"))\n",
    "if num1 < num2 :\n",
    "    small = num1\n",
    "else:\n",
    "    small = num2\n",
    "\n",
    "gcd = 1\n",
    "# iterating through all numbers b/w 1 to smaller input among two numbers\n",
    "for i in range(1,small + 1):\n",
    "    if num1 % i == 0 and num2 % i == 0:\n",
    "        # update gcd if i is a common divisor\n",
    "        gcd = i\n",
    "print(\"The Gcd of\" , num1 ,\"and\" ,num2 , \"is:\",gcd)\n"
   ]
  },
  {
   "cell_type": "code",
   "execution_count": 13,
   "metadata": {},
   "outputs": [],
   "source": [
    "def gcd(a,b):\n",
    "    if a < b :\n",
    "        small = a\n",
    "    else :\n",
    "        small = b\n",
    "    # initialize gcd = 1 ,this variable will be updated as we find common divisor\n",
    "    gcd = 1\n",
    "\n",
    "    for i in range(1,small + 1):\n",
    "        # checking i is common divisor for both a and b or not\n",
    "        if a % i == 0 and b % i == 0:\n",
    "            # update gcd if i is a common divisor\n",
    "            gcd = i\n",
    "    return gcd"
   ]
  },
  {
   "cell_type": "code",
   "execution_count": 14,
   "metadata": {},
   "outputs": [
    {
     "data": {
      "text/plain": [
       "1"
      ]
     },
     "execution_count": 14,
     "metadata": {},
     "output_type": "execute_result"
    }
   ],
   "source": [
    "gcd(5,17)"
   ]
  },
  {
   "cell_type": "markdown",
   "metadata": {},
   "source": [
    "# find HCF of 16 ,24 ,36"
   ]
  },
  {
   "cell_type": "code",
   "execution_count": 1,
   "metadata": {},
   "outputs": [],
   "source": [
    "def HCF(a,b,c):\n",
    "    if a < b :\n",
    "        if a < c :\n",
    "            small = a\n",
    "        else :\n",
    "            small = c\n",
    "    \n",
    "    elif b < c :\n",
    "        small = b\n",
    "    else:\n",
    "        small = c\n",
    "    gcd = 1\n",
    "    for i in range(1,small + 1):\n",
    "        if a % i == 0 and b % i == 0 and c % i == 0 :\n",
    "            gcd = i\n",
    "    return gcd"
   ]
  },
  {
   "cell_type": "code",
   "execution_count": 2,
   "metadata": {},
   "outputs": [
    {
     "data": {
      "text/plain": [
       "4"
      ]
     },
     "execution_count": 2,
     "metadata": {},
     "output_type": "execute_result"
    }
   ],
   "source": [
    "HCF(16,24,36)"
   ]
  }
 ],
 "metadata": {
  "kernelspec": {
   "display_name": "Python 3",
   "language": "python",
   "name": "python3"
  },
  "language_info": {
   "codemirror_mode": {
    "name": "ipython",
    "version": 3
   },
   "file_extension": ".py",
   "mimetype": "text/x-python",
   "name": "python",
   "nbconvert_exporter": "python",
   "pygments_lexer": "ipython3",
   "version": "3.11.5"
  }
 },
 "nbformat": 4,
 "nbformat_minor": 2
}
