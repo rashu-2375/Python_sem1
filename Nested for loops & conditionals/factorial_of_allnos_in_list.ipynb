{
 "cells": [
  {
   "cell_type": "markdown",
   "metadata": {},
   "source": [
    "# **SEM_1 ASSIGNMENT**\n",
    "Q. Given a list of positive integers, find the factorial of all the numbers."
   ]
  },
  {
   "cell_type": "code",
   "execution_count": 1,
   "metadata": {},
   "outputs": [],
   "source": [
    "# initialize a variable containing a list\n",
    "list1 = [6, 4, 5, 12, 2, 0]\n",
    "\n"
   ]
  },
  {
   "cell_type": "code",
   "execution_count": 2,
   "metadata": {},
   "outputs": [
    {
     "name": "stdout",
     "output_type": "stream",
     "text": [
      "Number should be positive\n",
      "[720, 24, 120, 479001600, 2]\n"
     ]
    }
   ],
   "source": [
    "# variable list1_fact works as  a accumulator\n",
    "list1_fact = []\n",
    "\n",
    "# iterating through each element \n",
    "for i in list1:\n",
    "\n",
    "    # checking given element inside list1 is positive or not\n",
    "    if i > 0:\n",
    "\n",
    "        # initialize a variable that helps to calculate\n",
    "        # factorial of each element independently without influence of previous calculations\n",
    "        fact = 1\n",
    "\n",
    "        # this loop will calculate factorial of each i\n",
    "        for j in range(2, i + 1):\n",
    "            fact = fact * j\n",
    "        # append   factorial in the accumulator\n",
    "        list1_fact.append(fact)\n",
    "    elif i < 0:\n",
    "        print(\"Number  is negative\")\n",
    "    else:\n",
    "        print(\"Number should be positive\")\n",
    "\n",
    "print(list1_fact)\n"
   ]
  }
 ],
 "metadata": {
  "kernelspec": {
   "display_name": "Python 3",
   "language": "python",
   "name": "python3"
  },
  "language_info": {
   "codemirror_mode": {
    "name": "ipython",
    "version": 3
   },
   "file_extension": ".py",
   "mimetype": "text/x-python",
   "name": "python",
   "nbconvert_exporter": "python",
   "pygments_lexer": "ipython3",
   "version": "3.11.5"
  }
 },
 "nbformat": 4,
 "nbformat_minor": 2
}
