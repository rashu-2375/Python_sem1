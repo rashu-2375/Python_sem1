{
 "cells": [
  {
   "cell_type": "markdown",
   "metadata": {},
   "source": [
    "# **SEM_1 ASSIGNMENT**\n",
    "Q. Given a list of numbers, find out how many times each number occurs in the list."
   ]
  },
  {
   "cell_type": "code",
   "execution_count": 1,
   "metadata": {},
   "outputs": [],
   "source": [
    "# initialize a varible containing a list\n",
    "list1 = [3, 3, 5, 7, 9, 5, 5, 7, 2, 11, 7, 5, 2]\n",
    "\n",
    "# variable list2 accumulates unique element of list1\n",
    "list2 = []\n",
    "\n"
   ]
  },
  {
   "cell_type": "code",
   "execution_count": 2,
   "metadata": {},
   "outputs": [
    {
     "name": "stdout",
     "output_type": "stream",
     "text": [
      "[3, 5, 7, 9, 2, 11]\n"
     ]
    }
   ],
   "source": [
    "# accessing each element one by one\n",
    "for i in list1:\n",
    "\n",
    "    # checking condition  for same i should not be come in list2\n",
    "    if i not in list2:\n",
    "        list2.append(i)\n",
    "print(list2)"
   ]
  },
  {
   "cell_type": "code",
   "execution_count": 3,
   "metadata": {},
   "outputs": [
    {
     "name": "stdout",
     "output_type": "stream",
     "text": [
      "3 2\n",
      "5 4\n",
      "7 3\n",
      "9 1\n",
      "2 2\n",
      "11 1\n"
     ]
    }
   ],
   "source": [
    "# iterating elements of list2 one by one\n",
    "for j in list2:\n",
    "     \n",
    "    count = 0\n",
    "    for i in list1:\n",
    "        # checking a unique no(j) how many times equal to i in list1\n",
    "        if j == i:\n",
    "            # updating variable count i.e counting occurence of particular number\n",
    "            count += 1\n",
    "    print(j,count)\n"
   ]
  }
 ],
 "metadata": {
  "kernelspec": {
   "display_name": "Python 3",
   "language": "python",
   "name": "python3"
  },
  "language_info": {
   "codemirror_mode": {
    "name": "ipython",
    "version": 3
   },
   "file_extension": ".py",
   "mimetype": "text/x-python",
   "name": "python",
   "nbconvert_exporter": "python",
   "pygments_lexer": "ipython3",
   "version": "3.11.5"
  }
 },
 "nbformat": 4,
 "nbformat_minor": 2
}
