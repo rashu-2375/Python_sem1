{
 "cells": [
  {
   "cell_type": "markdown",
   "metadata": {},
   "source": [
    "# **SEM_1 ASSIGNMENT**\n",
    "Q. Given a positive integer, find out all prime numbers from 1 up to this number."
   ]
  },
  {
   "cell_type": "code",
   "execution_count": 1,
   "metadata": {},
   "outputs": [
    {
     "name": "stdout",
     "output_type": "stream",
     "text": [
      "[2, 3, 5, 7, 11, 13, 17, 19, 23, 29, 31, 37, 41, 43, 47, 53, 59, 61, 67, 71, 73, 79, 83, 89, 97]\n"
     ]
    }
   ],
   "source": [
    "# Get user input for the upper limit to check prime numbers\n",
    "num = int(input(\"Enter no. upto which you want to check prime number\"))\n",
    "# Initialize an empty list to store prime numbers\n",
    "list_primes = []\n",
    "# Iterate through numbers from 2 to the user-input limit\n",
    "for i in range(2,num+1):\n",
    "    # Initialize a counter for factors\n",
    "    b = 0\n",
    "    # Calculate the upper limit for checking factors\n",
    "    U_L =int(i**0.5)\n",
    "\n",
    "    # Check for factors in the range from 2 to the calculated upper limit\n",
    "    for j in range(2,U_L+1):\n",
    "        # If a factor is found, increment the counter\n",
    "        if i % j == 0:\n",
    "            b = b + 1\n",
    "    # If no factors are found, the number is prime, add it to the list\n",
    "    if b == 0:\n",
    "        list_primes.append(i)   \n",
    "print(list_primes)    \n",
    "\n",
    "\n",
    "\n"
   ]
  }
 ],
 "metadata": {
  "kernelspec": {
   "display_name": "Python 3",
   "language": "python",
   "name": "python3"
  },
  "language_info": {
   "codemirror_mode": {
    "name": "ipython",
    "version": 3
   },
   "file_extension": ".py",
   "mimetype": "text/x-python",
   "name": "python",
   "nbconvert_exporter": "python",
   "pygments_lexer": "ipython3",
   "version": "3.11.5"
  }
 },
 "nbformat": 4,
 "nbformat_minor": 2
}
