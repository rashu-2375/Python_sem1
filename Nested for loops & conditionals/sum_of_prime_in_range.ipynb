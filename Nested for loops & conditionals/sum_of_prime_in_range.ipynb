{
 "cells": [
  {
   "cell_type": "markdown",
   "metadata": {},
   "source": [
    "# ***SEM_1 ASSIGNMENT***\n",
    "Q. Given a positive integers, find out the sum of all prime numbers from 1 up to this number."
   ]
  },
  {
   "cell_type": "code",
   "execution_count": 1,
   "metadata": {},
   "outputs": [
    {
     "name": "stdout",
     "output_type": "stream",
     "text": [
      "Prime numbers: [2, 3, 5, 7, 11, 13, 17, 19, 23, 29, 31, 37, 41, 43, 47, 53, 59, 61, 67, 71, 73, 79, 83, 89, 97]\n",
      "Sum of prime numbers: 1060\n"
     ]
    }
   ],
   "source": [
    "# Get user input for the upper limit to check prime numbers\n",
    "num = int(input(\"Enter the number up to which you want to check prime numbers: \"))\n",
    "list_primes = []\n",
    "\n",
    "# Initialize a variable to keep track of the sum of prime numbers\n",
    "prime_sum = 0\n",
    "\n",
    "\n",
    "for i in range(2, num+1):\n",
    "    #boolean variable(is_prime) ,i am using  to  keep track whether the current number (i in this case) is a prime number or not.\n",
    "    is_prime = True\n",
    "    # Check for factors in the range from 2 to the square root of the number(i)\n",
    "    for j in range(2, int(i**0.5)+1):\n",
    "        # If current number(i) has any  factor other than 1 and itself, then number is not prime, break the loop\n",
    "        if i % j == 0:\n",
    "            is_prime = False\n",
    "            break\n",
    "    #After the inner loop, if is_prime is still True, it means no factors were found, and the current number is prime.\n",
    "    # If the number is prime, add it to the list and update the sum\n",
    "    if is_prime:\n",
    "        list_primes.append(i)\n",
    "        prime_sum += i\n",
    "\n",
    "print(\"Prime numbers:\", list_primes)\n",
    "print(\"Sum of prime numbers:\", prime_sum)\n"
   ]
  }
 ],
 "metadata": {
  "kernelspec": {
   "display_name": "Python 3",
   "language": "python",
   "name": "python3"
  },
  "language_info": {
   "codemirror_mode": {
    "name": "ipython",
    "version": 3
   },
   "file_extension": ".py",
   "mimetype": "text/x-python",
   "name": "python",
   "nbconvert_exporter": "python",
   "pygments_lexer": "ipython3",
   "version": "3.11.5"
  }
 },
 "nbformat": 4,
 "nbformat_minor": 2
}
