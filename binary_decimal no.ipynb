{
 "cells": [
  {
   "cell_type": "markdown",
   "metadata": {},
   "source": [
    "# ***SEM_1 ASSIGNMENT***\n",
    "Q. Given a positive integer, convert it into binary, and vice-versa."
   ]
  },
  {
   "cell_type": "code",
   "execution_count": 3,
   "metadata": {},
   "outputs": [],
   "source": [
    "# taking input from the user\n",
    "num = int(input(\"Enter your no:\"))\n",
    "\n"
   ]
  },
  {
   "cell_type": "code",
   "execution_count": 4,
   "metadata": {},
   "outputs": [
    {
     "name": "stdout",
     "output_type": "stream",
     "text": [
      "1010\n"
     ]
    }
   ],
   "source": [
    "if num < 0 :\n",
    "    print(\"input must be a positive integer\")\n",
    "elif num == 0:\n",
    "    print(0)\n",
    "else:\n",
    "    num_bits = 0\n",
    "    temp_num = num\n",
    "    while temp_num > 0:\n",
    "        temp_num = temp_num // 2\n",
    "        num_bits += 1 \n",
    "    binary = \"\"\n",
    "    number = num\n",
    "    for i in range(num_bits):\n",
    "        binary  = str(number % 2) + binary\n",
    "        # binary  =   binary + str(number % 2) \n",
    "\n",
    "        number = number // 2\n",
    "    print(binary)"
   ]
  },
  {
   "cell_type": "markdown",
   "metadata": {},
   "source": [
    "# ***Binary to decimal number***"
   ]
  },
  {
   "cell_type": "code",
   "execution_count": 8,
   "metadata": {},
   "outputs": [],
   "source": [
    "n = int(input(\"Enter your  decimal number:\"))"
   ]
  },
  {
   "cell_type": "code",
   "execution_count": 5,
   "metadata": {},
   "outputs": [
    {
     "name": "stdout",
     "output_type": "stream",
     "text": [
      "3.004751155591001\n"
     ]
    }
   ],
   "source": [
    "\n",
    "import math\n",
    "num=1011\n",
    "print(math.log10(num))"
   ]
  },
  {
   "cell_type": "code",
   "execution_count": 6,
   "metadata": {},
   "outputs": [
    {
     "name": "stdout",
     "output_type": "stream",
     "text": [
      "11\n"
     ]
    }
   ],
   "source": [
    "import math\n",
    "n=1011\n",
    "result=0\n",
    "for i in range(int(math.log10(n)+1)):\n",
    "    digit = n % 10\n",
    "    result+=(digit*(2**i))\n",
    "    n //= 10\n",
    "print(result)"
   ]
  },
  {
   "cell_type": "code",
   "execution_count": 7,
   "metadata": {},
   "outputs": [
    {
     "name": "stdout",
     "output_type": "stream",
     "text": [
      "10\n"
     ]
    }
   ],
   "source": [
    "n= 1010\n",
    "decimal_num = 0\n",
    "p = 1\n",
    "\n",
    "while n >0 :\n",
    "    rem = n %  10\n",
    "    decimal_num = decimal_num + (rem * (p))\n",
    "    p = p * 2\n",
    "    n = n // 10\n",
    "print(decimal_num)\n",
    "\n",
    "    \n",
    "\n"
   ]
  }
 ],
 "metadata": {
  "kernelspec": {
   "display_name": "Python 3",
   "language": "python",
   "name": "python3"
  },
  "language_info": {
   "codemirror_mode": {
    "name": "ipython",
    "version": 3
   },
   "file_extension": ".py",
   "mimetype": "text/x-python",
   "name": "python",
   "nbconvert_exporter": "python",
   "pygments_lexer": "ipython3",
   "version": "3.11.5"
  }
 },
 "nbformat": 4,
 "nbformat_minor": 2
}
