{
 "cells": [
  {
   "cell_type": "markdown",
   "metadata": {},
   "source": [
    "# **SEM_1 ASSIGNMENT**\n",
    "Q. Given a positive integer, convert it into binary, and vice-versa."
   ]
  },
  {
   "cell_type": "code",
   "execution_count": 15,
   "metadata": {},
   "outputs": [],
   "source": [
    "# taking input from the user\n",
    "num = int(input(\"Enter your decimal no:\"))\n",
    "\n"
   ]
  },
  {
   "cell_type": "code",
   "execution_count": 16,
   "metadata": {},
   "outputs": [
    {
     "name": "stdout",
     "output_type": "stream",
     "text": [
      "101\n"
     ]
    }
   ],
   "source": [
    "if num < 0 :\n",
    "    print(\"input must be a positive integer\")\n",
    "elif num == 0:\n",
    "    print(0)\n",
    "else:\n",
    "    num_bits = 0\n",
    "    temp_num = num\n",
    "    while temp_num > 0:\n",
    "        temp_num = temp_num // 2\n",
    "        num_bits += 1 \n",
    "    binary = \"\"\n",
    "    number = num\n",
    "    for i in range(num_bits):\n",
    "        binary  = str(number % 2) + binary\n",
    "        # binary  =   binary + str(number % 2) \n",
    "\n",
    "        number = number // 2\n",
    "    print(binary)"
   ]
  },
  {
   "cell_type": "markdown",
   "metadata": {},
   "source": [
    "# ***Binary to decimal number***"
   ]
  },
  {
   "cell_type": "code",
   "execution_count": 17,
   "metadata": {},
   "outputs": [],
   "source": [
    "n = int(input(\"Enter your  binary number:\")) # n = 1000  is taken "
   ]
  },
  {
   "cell_type": "code",
   "execution_count": 18,
   "metadata": {},
   "outputs": [
    {
     "name": "stdout",
     "output_type": "stream",
     "text": [
      "8\n"
     ]
    }
   ],
   "source": [
    "\n",
    "# initialize decimal_num to track overall sum after completing operations \n",
    "decimal_num = 0\n",
    "\n",
    "# initialize i to track position of binary digit\n",
    "i = 0\n",
    "\n",
    "# until quotient becomes 0 till then loop will execute\n",
    "while n > 0 :\n",
    "\n",
    "    # extract rightmost digit of the binary number\n",
    "    rem = n %  10 \n",
    "\n",
    "    decimal_num = decimal_num + (rem * (2**i)) \n",
    "    n = n // 10\n",
    "    # move to next position in binary number\n",
    "    i = i + 1\n",
    "print(decimal_num)\n",
    "\n",
    "    \n",
    "\n"
   ]
  }
 ],
 "metadata": {
  "kernelspec": {
   "display_name": "Python 3",
   "language": "python",
   "name": "python3"
  },
  "language_info": {
   "codemirror_mode": {
    "name": "ipython",
    "version": 3
   },
   "file_extension": ".py",
   "mimetype": "text/x-python",
   "name": "python",
   "nbconvert_exporter": "python",
   "pygments_lexer": "ipython3",
   "version": "3.11.5"
  }
 },
 "nbformat": 4,
 "nbformat_minor": 2
}
