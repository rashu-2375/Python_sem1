{
 "cells": [
  {
   "cell_type": "markdown",
   "metadata": {},
   "source": [
    "# ***SEM_1 ASSIGNMENT***\n",
    "Q.Given a temperature in Celsius,\n",
    " convert it to Fahrenheit using the formula F = (C * 1.8) + 32.\n",
    "  If the temperature is above 90°F, print “It’s hot outside!” otherwise, print “The temperature is pleasant”."
   ]
  },
  {
   "cell_type": "markdown",
   "metadata": {},
   "source": [
    "# ***Conversion from celsius to fahrenheit***"
   ]
  },
  {
   "cell_type": "code",
   "execution_count": 4,
   "metadata": {},
   "outputs": [],
   "source": [
    "# taking input from the user for temperature in celsius\n",
    "cels = float(input(\"Enter a temperature in Celsius\"))\n",
    "\n",
    "\n"
   ]
  },
  {
   "cell_type": "code",
   "execution_count": 5,
   "metadata": {},
   "outputs": [],
   "source": [
    "# Relation between fahrenheit and celsius\n",
    "F = (cels  * 1.8) + 32"
   ]
  },
  {
   "cell_type": "code",
   "execution_count": 6,
   "metadata": {},
   "outputs": [
    {
     "name": "stdout",
     "output_type": "stream",
     "text": [
      "It’s hot outside!\n"
     ]
    }
   ],
   "source": [
    "# checking condition when fahrenheit is greater than 90 \n",
    "if F > 90 :\n",
    "    print(\"It’s hot outside!\")\n",
    "else:\n",
    "    print( \"The temperature is pleasant\")\n"
   ]
  },
  {
   "cell_type": "markdown",
   "metadata": {},
   "source": [
    "# ***Conversion from fahrenheit to celsius***"
   ]
  },
  {
   "cell_type": "markdown",
   "metadata": {},
   "source": [
    "Q. Given a temp in Fahrenheit,convert it to celsius.If the temperature is below 10 degree celsius output cold,\n",
    " b/w 10 and 25 output pleasant,b/w 25 and 35 output warm, and above 35 output hot."
   ]
  },
  {
   "cell_type": "code",
   "execution_count": 1,
   "metadata": {},
   "outputs": [],
   "source": [
    "# taking input from user\n",
    "temp = float(input(\"Enter temp temperature in fahrenheit:\"))\n",
    "\n"
   ]
  },
  {
   "cell_type": "code",
   "execution_count": 2,
   "metadata": {},
   "outputs": [],
   "source": [
    "# conversion formula\n",
    "\n",
    "c = (temp -32)* (5/9)"
   ]
  },
  {
   "cell_type": "code",
   "execution_count": 3,
   "metadata": {},
   "outputs": [
    {
     "name": "stdout",
     "output_type": "stream",
     "text": [
      "hot\n"
     ]
    }
   ],
   "source": [
    "# checkin the required condition\n",
    "if c < 10:\n",
    "    print(\"cold\")\n",
    "elif c < 25:\n",
    "    print(\"pleasant\")\n",
    "elif c < 35:\n",
    "    print(\"warm\")\n",
    "else:\n",
    "    print(\"hot\")\n"
   ]
  },
  {
   "cell_type": "code",
   "execution_count": null,
   "metadata": {},
   "outputs": [],
   "source": []
  }
 ],
 "metadata": {
  "kernelspec": {
   "display_name": "Python 3",
   "language": "python",
   "name": "python3"
  },
  "language_info": {
   "codemirror_mode": {
    "name": "ipython",
    "version": 3
   },
   "file_extension": ".py",
   "mimetype": "text/x-python",
   "name": "python",
   "nbconvert_exporter": "python",
   "pygments_lexer": "ipython3",
   "version": "3.11.5"
  }
 },
 "nbformat": 4,
 "nbformat_minor": 2
}
