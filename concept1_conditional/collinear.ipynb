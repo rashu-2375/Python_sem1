{
 "cells": [
  {
   "cell_type": "markdown",
   "metadata": {},
   "source": [
    "# ***SEM_1 ASSIGNMENT***\n",
    "Q. Given three points, find out whether\n",
    " they lie on the same straight line or not."
   ]
  },
  {
   "cell_type": "code",
   "execution_count": 2,
   "metadata": {},
   "outputs": [],
   "source": [
    "# taking input from user\n",
    "x1 = int(input(\"Enter abscissa for point 1: \"))\n",
    "y1 = int(input(\"Enter ordinate for point 1: \"))\n",
    "x2 = int(input(\"Enter abscissa for point 2: \"))\n",
    "y2 = int(input(\"Enter ordinate for point 2: \"))\n",
    "x3 = int(input(\"Enter abscissa for point 3: \"))\n",
    "y3 = int(input(\"Enter ordinate for point 3: \"))\n",
    "\n"
   ]
  },
  {
   "cell_type": "code",
   "execution_count": 3,
   "metadata": {},
   "outputs": [
    {
     "name": "stdout",
     "output_type": "stream",
     "text": [
      " Points are not collinear\n"
     ]
    }
   ],
   "source": [
    "# checking  the condition for collinearity taking care of when line is vertical \n",
    "if x1 == x2 == x3 or (y2 - y1) * (x3 - x1) == (x2 - x1) * (y3 - y1):\n",
    "     print(\"points are collinear\")\n",
    "else:\n",
    "    print(\" Points are not collinear\")"
   ]
  },
  {
   "cell_type": "code",
   "execution_count": null,
   "metadata": {},
   "outputs": [],
   "source": []
  }
 ],
 "metadata": {
  "kernelspec": {
   "display_name": "Python 3",
   "language": "python",
   "name": "python3"
  },
  "language_info": {
   "codemirror_mode": {
    "name": "ipython",
    "version": 3
   },
   "file_extension": ".py",
   "mimetype": "text/x-python",
   "name": "python",
   "nbconvert_exporter": "python",
   "pygments_lexer": "ipython3",
   "version": "3.11.5"
  }
 },
 "nbformat": 4,
 "nbformat_minor": 2
}
