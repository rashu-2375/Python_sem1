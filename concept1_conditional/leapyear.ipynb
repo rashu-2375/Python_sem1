{
 "cells": [
  {
   "cell_type": "markdown",
   "metadata": {},
   "source": [
    "# ***SEM_1 ASSIGNMENT***\n",
    "Q. Given a year, check if it is a leap year or not.A leap year is divisible by 4, except for years that are divisible by 100.    \n",
    "  However, years that are divisible by 400 are also leap years."
   ]
  },
  {
   "cell_type": "code",
   "execution_count": 2,
   "metadata": {},
   "outputs": [],
   "source": [
    "# taking input from user\n",
    "yr = int(input(\"Enter year to be checked \"))\n"
   ]
  },
  {
   "cell_type": "code",
   "execution_count": 3,
   "metadata": {},
   "outputs": [
    {
     "name": "stdout",
     "output_type": "stream",
     "text": [
      "Given yr is not a leap yr\n"
     ]
    }
   ],
   "source": [
    "# checking condition of leap year\n",
    "if yr % 400 == 0 or yr % 100 != 0 and yr % 4 == 0:\n",
    "    print(\"Given yr is a leap yr\")\n",
    "else:\n",
    "    print(\"Given yr is not a leap yr\")"
   ]
  },
  {
   "cell_type": "code",
   "execution_count": null,
   "metadata": {},
   "outputs": [],
   "source": []
  }
 ],
 "metadata": {
  "kernelspec": {
   "display_name": "Python 3",
   "language": "python",
   "name": "python3"
  },
  "language_info": {
   "codemirror_mode": {
    "name": "ipython",
    "version": 3
   },
   "file_extension": ".py",
   "mimetype": "text/x-python",
   "name": "python",
   "nbconvert_exporter": "python",
   "pygments_lexer": "ipython3",
   "version": "3.11.5"
  }
 },
 "nbformat": 4,
 "nbformat_minor": 2
}
