{
 "cells": [
  {
   "cell_type": "markdown",
   "metadata": {},
   "source": [
    "Given a point (x1, y1), find the quadrant in which this point lies."
   ]
  },
  {
   "cell_type": "code",
   "execution_count": 2,
   "metadata": {},
   "outputs": [
    {
     "name": "stdout",
     "output_type": "stream",
     "text": [
      "belongs to 4th quad\n"
     ]
    }
   ],
   "source": [
    "x1=float (input(\"enter first integer\"))\n",
    "x2=float (input(\"enter second integer\"))\n",
    "if x1>0 and x2>0:\n",
    "    print(\"belongs to 1st quad\")\n",
    "elif x1==0 and x2!=0:\n",
    "    print (\"lies on y-axis\")\n",
    "elif x1!=0 and x2==0:\n",
    "    print (\"lies on x-axis\")\n",
    "elif x1==0 and x2==0:\n",
    "    print (\"lies on origin\")\n",
    "\n",
    "\n",
    "elif x1<0 and x2>0:\n",
    "    print(\"belongs to 2nd quad\")\n",
    "elif x1<0 and x2<0:\n",
    "    print(\"belongs to 3rd quad\")\n",
    "else:\n",
    "    print(\"belongs to 4th quad\")"
   ]
  },
  {
   "cell_type": "code",
   "execution_count": null,
   "metadata": {},
   "outputs": [],
   "source": []
  }
 ],
 "metadata": {
  "kernelspec": {
   "display_name": "Python 3",
   "language": "python",
   "name": "python3"
  },
  "language_info": {
   "codemirror_mode": {
    "name": "ipython",
    "version": 3
   },
   "file_extension": ".py",
   "mimetype": "text/x-python",
   "name": "python",
   "nbconvert_exporter": "python",
   "pygments_lexer": "ipython3",
   "version": "3.11.5"
  }
 },
 "nbformat": 4,
 "nbformat_minor": 2
}
