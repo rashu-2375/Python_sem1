{
 "cells": [
  {
   "cell_type": "markdown",
   "metadata": {},
   "source": [
    "# ***SEM_1 ASSIGNMENT***\n",
    "Q. Given a point (x1, x2), find the quadrant in which this point lies."
   ]
  },
  {
   "cell_type": "code",
   "execution_count": 1,
   "metadata": {},
   "outputs": [],
   "source": [
    "# taking input from user\n",
    "x1 = float(input(\"enter first integer\"))\n",
    "x2 = float(input(\"enter second integer\"))\n"
   ]
  },
  {
   "cell_type": "code",
   "execution_count": 2,
   "metadata": {},
   "outputs": [
    {
     "name": "stdout",
     "output_type": "stream",
     "text": [
      "belongs to 4th quad\n"
     ]
    }
   ],
   "source": [
    "# checking condition for 1st quadrant\n",
    "if x1 > 0 and x2 > 0:\n",
    "    print(\"belongs to 1st quad\")\n",
    "\n",
    "#  checking condition when points lie on y-axis   \n",
    "elif x1 ==  0 and x2 != 0 :\n",
    "    print (\"lies on y-axis\")\n",
    "\n",
    "#  checking condition when points lie on x-axis\n",
    "elif x1 != 0 and x2 == 0:\n",
    "    print (\"lies on x-axis\")\n",
    "\n",
    "# when point lies on origin    \n",
    "elif x1 == 0 and x2 == 0:\n",
    "    print (\"lies on origin\")\n",
    "\n",
    "# point lies in 2nd quadrant\n",
    "elif x1 < 0 and x2 > 0:\n",
    "    print(\"belongs to 2nd quad\")\n",
    "\n",
    "# point lies in 3rd quadrant\n",
    "elif x1 < 0 and x2 <0:\n",
    "    print(\"belongs to 3rd quad\")\n",
    "    \n",
    "else:\n",
    "    print(\"belongs to 4th quad\")"
   ]
  },
  {
   "cell_type": "code",
   "execution_count": null,
   "metadata": {},
   "outputs": [],
   "source": []
  }
 ],
 "metadata": {
  "kernelspec": {
   "display_name": "Python 3",
   "language": "python",
   "name": "python3"
  },
  "language_info": {
   "codemirror_mode": {
    "name": "ipython",
    "version": 3
   },
   "file_extension": ".py",
   "mimetype": "text/x-python",
   "name": "python",
   "nbconvert_exporter": "python",
   "pygments_lexer": "ipython3",
   "version": "3.11.5"
  }
 },
 "nbformat": 4,
 "nbformat_minor": 2
}
