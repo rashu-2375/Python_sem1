{
 "cells": [
  {
   "cell_type": "markdown",
   "metadata": {},
   "source": [
    "# ***SEM_1 ASSIGNMENT***\n",
    "Q. Given a quadratic equation with coefficients a, b and c,\n",
    "find the two solutions (may be real or complex).  \n",
    "\n",
    " You should not take the square root of a negative number in your code."
   ]
  },
  {
   "cell_type": "code",
   "execution_count": 6,
   "metadata": {},
   "outputs": [],
   "source": [
    "# taking input feom user\n",
    "a = float(input(\"Enter the coefficient a: \"))\n",
    "b = float(input(\"Enter the coefficient b: \"))\n",
    "c = float(input(\"Enter the coefficient c: \"))\n",
    "\n",
    "\n",
    "\n"
   ]
  },
  {
   "cell_type": "code",
   "execution_count": 7,
   "metadata": {},
   "outputs": [],
   "source": [
    "# formula for calculating discriminant\n",
    "D = b**2 - (4*a*c)"
   ]
  },
  {
   "cell_type": "code",
   "execution_count": 8,
   "metadata": {},
   "outputs": [
    {
     "name": "stdout",
     "output_type": "stream",
     "text": [
      "Two complex solutions:\n",
      "x1 = -0.5 + 0.8660254037844386 i\n",
      "x2 = -0.5 - 0.8660254037844386 i\n"
     ]
    }
   ],
   "source": [
    "# checking all possible  values of discriminant\n",
    "if D > 0:\n",
    "    x1 = (-b + (D)**0.5) / (2 * a)\n",
    "    x2 = (-b - (D)**0.5) / (2 * a)\n",
    "    print(\"Two real solutions:\")\n",
    "    print(\"x1 =\", x1)\n",
    "    print(\"x2 =\", x2)\n",
    "elif D == 0:\n",
    "    x1 = -b / (2 * a)\n",
    "    print(\"One real solution:\")\n",
    "    print(\"x1 =\", x1)\n",
    "else:\n",
    "    real_part = -b / (2 * a)\n",
    "    imaginary_part = (abs(D)**0.5) / (2 * a)\n",
    "    print(\"Two complex solutions:\")\n",
    "    print(\"x1 =\", real_part, \"+\", imaginary_part, \"i\")\n",
    "    print(\"x2 =\", real_part, \"-\", imaginary_part, \"i\")"
   ]
  },
  {
   "cell_type": "code",
   "execution_count": null,
   "metadata": {},
   "outputs": [],
   "source": []
  }
 ],
 "metadata": {
  "kernelspec": {
   "display_name": "Python 3",
   "language": "python",
   "name": "python3"
  },
  "language_info": {
   "codemirror_mode": {
    "name": "ipython",
    "version": 3
   },
   "file_extension": ".py",
   "mimetype": "text/x-python",
   "name": "python",
   "nbconvert_exporter": "python",
   "pygments_lexer": "ipython3",
   "version": "3.11.5"
  }
 },
 "nbformat": 4,
 "nbformat_minor": 2
}
