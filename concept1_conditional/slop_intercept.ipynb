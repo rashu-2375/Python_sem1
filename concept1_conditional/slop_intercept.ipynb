{
 "cells": [
  {
   "cell_type": "markdown",
   "metadata": {},
   "source": [
    "# ***SEM_1 ASSIGNMENT***\n",
    "Q. Given two points (x1, y1) and (x2, y2), find the slope and intercept of the line joining these two points\n",
    " (the line may be perfectly horizontal or vertical)."
   ]
  },
  {
   "cell_type": "code",
   "execution_count": 1,
   "metadata": {},
   "outputs": [],
   "source": [
    " # taking input from user\n",
    "x1 = int(input(\"Enter abscissa of 1st point \"))\n",
    "y1 = int(input(\"Enter ordinate of 1st point \"))\n",
    "x2 = int(input(\"Enter abscissa of 2nd point\"))\n",
    "y2 = int(input(\"Enter ordinate of 2nd point\"))"
   ]
  },
  {
   "cell_type": "code",
   "execution_count": 3,
   "metadata": {},
   "outputs": [
    {
     "name": "stdout",
     "output_type": "stream",
     "text": [
      "slope of line is : 1.25\n",
      "intercept of line is  1.5\n"
     ]
    }
   ],
   "source": [
    "# checking condition for all cases of slope\n",
    "if x2 == x1:\n",
    "    print(\"The line is vertical and has infinite slope.\")\n",
    "\n",
    "elif y2 == y1:\n",
    "    print(\"The line is horizontal and has a slope of 0.\")\n",
    "\n",
    "else:\n",
    "    slope = (y2 - y1) / (x2 - x1)\n",
    "    intercept = y1 - slope * x1\n",
    "    print(\"slope of line is :\", slope )\n",
    "    print(\"intercept of line is \" ,intercept)\n",
    "   \n"
   ]
  },
  {
   "cell_type": "code",
   "execution_count": null,
   "metadata": {},
   "outputs": [],
   "source": []
  }
 ],
 "metadata": {
  "kernelspec": {
   "display_name": "Python 3",
   "language": "python",
   "name": "python3"
  },
  "language_info": {
   "codemirror_mode": {
    "name": "ipython",
    "version": 3
   },
   "file_extension": ".py",
   "mimetype": "text/x-python",
   "name": "python",
   "nbconvert_exporter": "python",
   "pygments_lexer": "ipython3",
   "version": "3.11.5"
  }
 },
 "nbformat": 4,
 "nbformat_minor": 2
}
