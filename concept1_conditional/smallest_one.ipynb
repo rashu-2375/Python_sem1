{
 "cells": [
  {
   "cell_type": "markdown",
   "metadata": {},
   "source": [
    "Given three integers, find the smallest one."
   ]
  },
  {
   "cell_type": "code",
   "execution_count": 1,
   "metadata": {},
   "outputs": [
    {
     "name": "stdout",
     "output_type": "stream",
     "text": [
      "smallest_one is 2\n"
     ]
    }
   ],
   "source": [
    "a,b,c = input(\"Enter num (space-separated:\").split()\n",
    "a=int(a)\n",
    "b=int(b)\n",
    "c=int(c)\n",
    "\n",
    "if a<b and a<c:\n",
    "    print( \"smallest_one is \" ,a)\n",
    "elif b< c:\n",
    "      print(\"smallest_one is\" ,b)\n",
    "else:\n",
    "     print(\"smallest_one is\" ,c)"
   ]
  },
  {
   "cell_type": "code",
   "execution_count": null,
   "metadata": {},
   "outputs": [],
   "source": []
  },
  {
   "cell_type": "code",
   "execution_count": 4,
   "metadata": {},
   "outputs": [
    {
     "name": "stdout",
     "output_type": "stream",
     "text": [
      "the smallest integer is: -9\n"
     ]
    }
   ],
   "source": [
    "num1 = int(input(\"Enter an integer:\"))\n",
    "num2 = int(input(\"Enter an integer:\"))\n",
    "num3 = int(input(\"Enter an integer:\"))\n",
    "if num1<num2:\n",
    "    if num1<num3:\n",
    "        print(\"the smallest integer is:\",num1)\n",
    "    else:\n",
    "        print(\"the smallest integer is:\",num3)\n",
    "else:\n",
    "    if num2<num3:\n",
    "        print(\"the smallest integer is:\",num1)\n",
    "    else:\n",
    "        print(\"the smallest integer is:\",num3)\n"
   ]
  },
  {
   "cell_type": "code",
   "execution_count": null,
   "metadata": {},
   "outputs": [],
   "source": []
  }
 ],
 "metadata": {
  "kernelspec": {
   "display_name": "Python 3",
   "language": "python",
   "name": "python3"
  },
  "language_info": {
   "codemirror_mode": {
    "name": "ipython",
    "version": 3
   },
   "file_extension": ".py",
   "mimetype": "text/x-python",
   "name": "python",
   "nbconvert_exporter": "python",
   "pygments_lexer": "ipython3",
   "version": "3.11.5"
  }
 },
 "nbformat": 4,
 "nbformat_minor": 2
}
