{
 "cells": [
  {
   "cell_type": "markdown",
   "metadata": {},
   "source": [
    "# ***SEM_1 ASSIGNMENT***\n",
    "Q. Given three integers, find the smallest one."
   ]
  },
  {
   "cell_type": "markdown",
   "metadata": {},
   "source": [
    "# ***Method - 1(Using  \"and\" operator)***"
   ]
  },
  {
   "cell_type": "code",
   "execution_count": 1,
   "metadata": {},
   "outputs": [],
   "source": [
    "# taking input from user\n",
    "a,b,c = input(\"Enter num (space-separated:\").split()\n",
    "a = int(a)\n",
    "b = int(b)\n",
    "c = int(c)\n",
    "\n"
   ]
  },
  {
   "cell_type": "code",
   "execution_count": 2,
   "metadata": {},
   "outputs": [
    {
     "name": "stdout",
     "output_type": "stream",
     "text": [
      "smallest_one is -5\n"
     ]
    }
   ],
   "source": [
    "# checking condition when a is smaller\n",
    "if a < b and a < c :\n",
    "    print( \"smallest_one is \" ,a)\n",
    "\n",
    "#  checking condition when b is smaller\n",
    "elif b < c :\n",
    "      print(\"smallest_one is\" ,b)\n",
    "\n",
    "\n",
    "else:\n",
    "     print(\"smallest_one is\" ,c)"
   ]
  },
  {
   "cell_type": "markdown",
   "metadata": {},
   "source": [
    "# ***Method - 2(Using without \"and\" operator)***"
   ]
  },
  {
   "cell_type": "code",
   "execution_count": 5,
   "metadata": {},
   "outputs": [],
   "source": [
    "# taking input from user\n",
    "num1 = int(input(\"Enter an integer:\"))\n",
    "num2 = int(input(\"Enter an integer:\"))\n",
    "num3 = int(input(\"Enter an integer:\"))\n"
   ]
  },
  {
   "cell_type": "code",
   "execution_count": 7,
   "metadata": {},
   "outputs": [
    {
     "name": "stdout",
     "output_type": "stream",
     "text": [
      "the smallest integer is: -5\n"
     ]
    }
   ],
   "source": [
    "# checking the required condition\n",
    "if num1 < num2:\n",
    "    if num1 < num3:\n",
    "        print(\"the smallest integer is:\", num1)\n",
    "    else:\n",
    "        print(\"the smallest integer is:\", num3)\n",
    "elif num2 < num3:\n",
    "    print(\"the smallest integer is:\", num2)\n",
    "else:\n",
    "    print(\"the smallest integer is:\", num3)\n",
    "\n"
   ]
  },
  {
   "cell_type": "code",
   "execution_count": null,
   "metadata": {},
   "outputs": [],
   "source": []
  }
 ],
 "metadata": {
  "kernelspec": {
   "display_name": "Python 3",
   "language": "python",
   "name": "python3"
  },
  "language_info": {
   "codemirror_mode": {
    "name": "ipython",
    "version": 3
   },
   "file_extension": ".py",
   "mimetype": "text/x-python",
   "name": "python",
   "nbconvert_exporter": "python",
   "pygments_lexer": "ipython3",
   "version": "3.11.5"
  }
 },
 "nbformat": 4,
 "nbformat_minor": 2
}
