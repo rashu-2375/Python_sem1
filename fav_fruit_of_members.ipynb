{
 "cells": [
  {
   "cell_type": "markdown",
   "metadata": {},
   "source": [
    "# *SEM_1 ASSIGNMENT*\n",
    "Q. Create a dictionary whose keys are the names of your family members and friends, and \n",
    "the values are the list of fruits they like to eat.Now if the user gives a fruit as input, the code should print the list of names who like this fruit.\n",
    "Write another code to print the list of people who do not like this fruit.\n",
    " Using this dictionary as input, write a code to make a consolidated list of all the fruit names present in the values of various keys. \n",
    "This list should not have any duplicate entries. Do not use the set() function."
   ]
  },
  {
   "cell_type": "code",
   "execution_count": 11,
   "metadata": {},
   "outputs": [
    {
     "name": "stdout",
     "output_type": "stream",
     "text": [
      "demanded_fruit is: papaya\n",
      "no. of persons like this fruit is: ['kusum', 'Rani']\n"
     ]
    }
   ],
   "source": [
    "dict1 = {\n",
    "    \"Saurav\" :[\"Kiwi\", 'Mango','apple'] ,\n",
    "    \"kusum\" : ['orange','grapes','papaya'],\n",
    "    'Chhotu' : ['apple' , 'lichi','watermelon'],\n",
    "    \"Rani\"  : ['guava' ,'Mango','papaya']\n",
    "}\n",
    "demanded_fruit = input(\"enter a name of fruit here:\")\n",
    "print(\"demanded_fruit is:\" ,demanded_fruit)\n",
    "list_likes = []\n",
    "for key,value in dict1.items():\n",
    "\n",
    "    # iterate over each element in list of fruit\n",
    "    for i in value:\n",
    "        # checking the fruit that comes from list is same as required fruit\n",
    "        if i == demanded_fruit:\n",
    "            # add the name as key who is liking to eat required fruit\n",
    "            list_likes.append(key)\n",
    "print(\"no. of persons like this fruit is:\" ,list_likes)\n"
   ]
  },
  {
   "cell_type": "markdown",
   "metadata": {},
   "source": [
    "# Second part"
   ]
  },
  {
   "cell_type": "code",
   "execution_count": 12,
   "metadata": {},
   "outputs": [
    {
     "name": "stdout",
     "output_type": "stream",
     "text": [
      "{'Saurav': ['Kiwi', 'Mango', 'apple'], 'kusum': ['orange', 'grapes', 'papaya'], 'Chhotu': ['apple', 'lichi', 'watermelon'], 'Rani': ['guava', 'Mango', 'papaya']}\n"
     ]
    }
   ],
   "source": [
    "print(dict1)"
   ]
  },
  {
   "cell_type": "code",
   "execution_count": 13,
   "metadata": {},
   "outputs": [
    {
     "name": "stdout",
     "output_type": "stream",
     "text": [
      "demanded_fruit is: papaya\n",
      "the demanded_fruit is not liked by these persons: ['Saurav', 'Chhotu']\n"
     ]
    }
   ],
   "source": [
    "demanded_fruit = input(\"enter a name of fruit here:\")\n",
    "print(\"demanded_fruit is:\" ,demanded_fruit)\n",
    "list_unlike = []\n",
    "for key,value in dict1.items():\n",
    "\n",
    "    # logic is if particular person doesn't like given fruit\n",
    "    #  then it should not be in their list of favourite fruits\n",
    "    if demanded_fruit not  in value: # using membership operator\n",
    "        \n",
    "            list_unlike.append(key)\n",
    "print(\"the demanded_fruit is not liked by these persons:\", list_unlike)"
   ]
  },
  {
   "cell_type": "code",
   "execution_count": 14,
   "metadata": {},
   "outputs": [
    {
     "name": "stdout",
     "output_type": "stream",
     "text": [
      "['Kiwi', 'Mango', 'apple', 'orange', 'grapes', 'papaya', 'lichi', 'watermelon', 'guava']\n"
     ]
    }
   ],
   "source": [
    "# third part of same Question\n",
    "\n",
    "list_new = []\n",
    "for key,value in dict1.items():\n",
    "    for i in value:\n",
    "\n",
    "        # here repition is not allowed so i am considering (same i) will not go into my accumulator list_new\n",
    "        if not i in list_new:\n",
    "            list_new.append(i)\n",
    "print(list_new)\n",
    "        \n"
   ]
  }
 ],
 "metadata": {
  "kernelspec": {
   "display_name": "Python 3",
   "language": "python",
   "name": "python3"
  },
  "language_info": {
   "codemirror_mode": {
    "name": "ipython",
    "version": 3
   },
   "file_extension": ".py",
   "mimetype": "text/x-python",
   "name": "python",
   "nbconvert_exporter": "python",
   "pygments_lexer": "ipython3",
   "version": "3.11.5"
  }
 },
 "nbformat": 4,
 "nbformat_minor": 2
}
