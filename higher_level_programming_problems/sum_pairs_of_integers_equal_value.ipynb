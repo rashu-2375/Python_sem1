{
 "cells": [
  {
   "cell_type": "markdown",
   "metadata": {},
   "source": [
    "# Higher practice problems\n",
    "\n",
    "Q8.Given a list of integers, find the sum of all pairs of integers in the list that are equal."
   ]
  },
  {
   "cell_type": "code",
   "execution_count": 1,
   "metadata": {},
   "outputs": [
    {
     "name": "stdout",
     "output_type": "stream",
     "text": [
      "[4, 6]\n"
     ]
    }
   ],
   "source": [
    "\n",
    "# considering given list of integers like this\n",
    "lst1 = [1, 2, 3, -1, 2, 5, 3, 0]\n",
    "\n",
    "# initialize a variable that store sum of pairs of equal numbers\n",
    "sum_equal_numbers = []   \n",
    "\n",
    "for i in range(len(lst1)):   # len(lst1)  = 8\n",
    "\n",
    "    for j in range(i + 1, len(lst1)):\n",
    "        # check if elements corresponding to indices i and j are equal or not\n",
    "        if lst1[i] == lst1[j]:\n",
    "            # if equal,append sum of each pair of equal numbers to the list\n",
    " \n",
    "            sum_equal_numbers.append(lst1[i] + lst1[j])\n",
    "print(sum_equal_numbers)  # print list containing sum of all pairs of equal numbers"
   ]
  }
 ],
 "metadata": {
  "kernelspec": {
   "display_name": "Python 3",
   "language": "python",
   "name": "python3"
  },
  "language_info": {
   "codemirror_mode": {
    "name": "ipython",
    "version": 3
   },
   "file_extension": ".py",
   "mimetype": "text/x-python",
   "name": "python",
   "nbconvert_exporter": "python",
   "pygments_lexer": "ipython3",
   "version": "3.11.5"
  }
 },
 "nbformat": 4,
 "nbformat_minor": 2
}
