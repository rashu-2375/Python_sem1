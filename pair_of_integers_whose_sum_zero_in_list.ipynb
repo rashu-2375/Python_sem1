{
 "cells": [
  {
   "cell_type": "markdown",
   "metadata": {},
   "source": [
    "# ***SEM_1 ASSIGNMENT***\n",
    "Q. Given a list of integers, find all pairs of integers in the list whose sum is zero."
   ]
  },
  {
   "cell_type": "code",
   "execution_count": 3,
   "metadata": {},
   "outputs": [],
   "source": [
    "def find_pairs_with_sum_Zero(mylist):\n",
    "    # initialize an empty list to store pairs with a sum of Zero\n",
    "    Zero_sum_pairs = []\n",
    "\n",
    "    for i in range(len(mylist)):\n",
    "        # iterate over remaining elements to compare with current element\n",
    "        for j in range(i + 1 ,len(mylist)):\n",
    "            # check if the sum of the current pair of elements is Zero\n",
    "            if mylist[i] + mylist[j] == 0:\n",
    "                #condition is true,add pair to list\n",
    "                Zero_sum_pairs.append((mylist[i] , mylist[j]))\n",
    "\n",
    "    # return list containing pairs with a sum of Zero\n",
    "    return Zero_sum_pairs"
   ]
  },
  {
   "cell_type": "code",
   "execution_count": 4,
   "metadata": {},
   "outputs": [
    {
     "data": {
      "text/plain": [
       "[(1, -1), (-2, 2), (3, -3), (0, 0)]"
      ]
     },
     "execution_count": 4,
     "metadata": {},
     "output_type": "execute_result"
    }
   ],
   "source": [
    "mylist = [1,-2,3,-1,2,0,-3,0]\n",
    "# call the fxn\n",
    "find_pairs_with_sum_Zero(mylist)"
   ]
  }
 ],
 "metadata": {
  "kernelspec": {
   "display_name": "Python 3",
   "language": "python",
   "name": "python3"
  },
  "language_info": {
   "codemirror_mode": {
    "name": "ipython",
    "version": 3
   },
   "file_extension": ".py",
   "mimetype": "text/x-python",
   "name": "python",
   "nbconvert_exporter": "python",
   "pygments_lexer": "ipython3",
   "version": "3.11.5"
  }
 },
 "nbformat": 4,
 "nbformat_minor": 2
}
