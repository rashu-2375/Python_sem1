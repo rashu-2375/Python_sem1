{
 "cells": [
  {
   "cell_type": "markdown",
   "metadata": {},
   "source": [
    "Q8.Given a list of integers, find the sum of all pairs of integers in the list that are equal."
   ]
  },
  {
   "cell_type": "code",
   "execution_count": 3,
   "metadata": {},
   "outputs": [
    {
     "name": "stdout",
     "output_type": "stream",
     "text": [
      "[0, 4, 6, 6, 6, 6, 6, 6]\n"
     ]
    }
   ],
   "source": [
    "lst1 = [1,2,3,-1,2,5,3,0]\n",
    "sum_pairs_equal = []\n",
    "sum1 = 0\n",
    "for i in range(len(lst1)):\n",
    "    for j in range(i + 1,len(lst1)):\n",
    "        if lst1[i] == lst1[j]:\n",
    "            sum1 = lst1[i] + lst1[j]\n",
    "    sum_pairs_equal.append(sum1)\n",
    "print(sum_pairs_equal)"
   ]
  },
  {
   "cell_type": "code",
   "execution_count": null,
   "metadata": {},
   "outputs": [],
   "source": []
  }
 ],
 "metadata": {
  "kernelspec": {
   "display_name": "Python 3",
   "language": "python",
   "name": "python3"
  },
  "language_info": {
   "codemirror_mode": {
    "name": "ipython",
    "version": 3
   },
   "file_extension": ".py",
   "mimetype": "text/x-python",
   "name": "python",
   "nbconvert_exporter": "python",
   "pygments_lexer": "ipython3",
   "version": "3.11.5"
  }
 },
 "nbformat": 4,
 "nbformat_minor": 2
}
